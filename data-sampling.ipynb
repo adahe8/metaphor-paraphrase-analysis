{
 "cells": [
  {
   "cell_type": "markdown",
   "metadata": {},
   "source": [
    "Randomly Sampling 100 Metaphor Source-Domain Paraphrase Lines"
   ]
  },
  {
   "cell_type": "code",
   "execution_count": 1,
   "metadata": {},
   "outputs": [],
   "source": [
    "import pandas as pd"
   ]
  },
  {
   "cell_type": "code",
   "execution_count": 2,
   "metadata": {},
   "outputs": [
    {
     "name": "stdout",
     "output_type": "stream",
     "text": [
      "  target_domain          source_domain  \\\n",
      "0    Government         Nuclear family   \n",
      "1        Action  Self propelled motion   \n",
      "2      Morality           Straightness   \n",
      "3      Morality                 Purity   \n",
      "4        Action    Motion along a path   \n",
      "\n",
      "                                             in_sent     lemma_pos  \n",
      "0  King Edward is now overlord of this northern k...    [(19, 27)]  \n",
      "1  Mike Chittenden staggered in flames into a nei...    [(16, 25)]  \n",
      "2  Police regulation -- of which law enforcement ...  [(152, 161)]  \n",
      "3           ` Was she a good person ? \" she asked .     [(12, 16)]  \n",
      "4  Pass through the village , and off to the righ...  [(103, 111)]  \n"
     ]
    }
   ],
   "source": [
    "# read tsv files of broad metaphors and narrow metaphors in\n",
    "broad = pd.read_csv('./dataset/eval_pairs_GENERAL_50.tsv',sep='\\t')\n",
    "narrow = pd.read_csv('./dataset/eval_pairs_SPECIFIC_50.tsv',sep='\\t')\n",
    "# combine into one dataframe\n",
    "df = pd.concat([broad,narrow],ignore_index=True)\n",
    "\n",
    "# shuffle to scramble broad and narrow metaphor domains (only really a concern for controlled metaphor generation)\n",
    "\n",
    "#keep target and source for controlled generation\n",
    "df_controlled_inputs = df[['target_domain','source_domain','in_sent','lemma_pos']]\n",
    "\n",
    "#keep only target for free generation\n",
    "df_free_inputs = df[['target_domain','in_sent','lemma_pos']]\n",
    "\n",
    "# view\n",
    "print(df_controlled_inputs.head(5))"
   ]
  },
  {
   "cell_type": "code",
   "execution_count": 3,
   "metadata": {},
   "outputs": [],
   "source": [
    "# write to a file for easy access during prompt engineering\n",
    "df_free_inputs.to_csv('./dataset/free_data.tsv',sep='\\t',index=False)\n",
    "df_controlled_inputs.to_csv('./dataset/controlled_data.tsv',sep='\\t',index=False)"
   ]
  },
  {
   "cell_type": "code",
   "execution_count": null,
   "metadata": {},
   "outputs": [],
   "source": []
  }
 ],
 "metadata": {
  "kernelspec": {
   "display_name": "base",
   "language": "python",
   "name": "python3"
  },
  "language_info": {
   "codemirror_mode": {
    "name": "ipython",
    "version": 3
   },
   "file_extension": ".py",
   "mimetype": "text/x-python",
   "name": "python",
   "nbconvert_exporter": "python",
   "pygments_lexer": "ipython3",
   "version": "3.9.20"
  }
 },
 "nbformat": 4,
 "nbformat_minor": 2
}
